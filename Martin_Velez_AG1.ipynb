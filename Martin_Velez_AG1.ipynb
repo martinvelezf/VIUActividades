{
  "nbformat": 4,
  "nbformat_minor": 0,
  "metadata": {
    "colab": {
      "name": "Martin Velez - AG1.ipynb",
      "provenance": [],
      "collapsed_sections": [],
      "include_colab_link": true
    },
    "kernelspec": {
      "display_name": "Python 3",
      "name": "python3"
    },
    "language_info": {
      "name": "python"
    }
  },
  "cells": [
    {
      "cell_type": "markdown",
      "metadata": {
        "id": "view-in-github",
        "colab_type": "text"
      },
      "source": [
        "<a href=\"https://colab.research.google.com/github/martinvelezf/VIUActividades/blob/main/Martin_Velez_AG1.ipynb\" target=\"_parent\"><img src=\"https://colab.research.google.com/assets/colab-badge.svg\" alt=\"Open In Colab\"/></a>"
      ]
    },
    {
      "cell_type": "markdown",
      "metadata": {
        "id": "GG2D6vLdYwwy"
      },
      "source": [
        "Actividad Guiada 1 de Algoritmos de Optimizacion\n",
        "\n",
        "Nombre: Martin Velez\n",
        "\n",
        "https://colab.research.google.com/drive/1GGcnE-HZCTAbUt-619IXVODSszQ15EU9?usp=sharing\n",
        "\n",
        "https://github.com/mi_usuario/03MAIR---Algoritmos-de-Optimizacion"
      ]
    },
    {
      "cell_type": "code",
      "metadata": {
        "colab": {
          "base_uri": "https://localhost:8080/"
        },
        "id": "rTiqLuX2ZKuL",
        "outputId": "a21c4b9d-d39d-401b-a22a-1822a4f9d9e2"
      },
      "source": [
        "#Torres de Hanoi - Divide y venceras\n",
        "################################################################################\n",
        "\n",
        "\n",
        "################################################################\n",
        "def Torres_Hanoi(N, desde, hasta):\n",
        "# N -> Numero de fichas\n",
        "  if N==1:\n",
        "    print(f'movimiento desde torre {desde} hasta torre {hasta}')\n",
        "  else:\n",
        "    Torres_Hanoi(N-1, desde, 6-desde-hasta)\n",
        "    print(f'{N} movimiento desde torre {desde} hasta torre {hasta}')\n",
        "    Torres_Hanoi(N-1, 6-desde-hasta, hasta)\n",
        "Torres_Hanoi(3, 1, 3)\n",
        "################################################################"
      ],
      "execution_count": 1,
      "outputs": [
        {
          "output_type": "stream",
          "text": [
            "movimiento desde torre 1 hasta torre 3\n",
            "2 movimiento desde torre 1 hasta torre 2\n",
            "movimiento desde torre 3 hasta torre 2\n",
            "3 movimiento desde torre 1 hasta torre 3\n",
            "movimiento desde torre 2 hasta torre 1\n",
            "2 movimiento desde torre 2 hasta torre 3\n",
            "movimiento desde torre 1 hasta torre 3\n"
          ],
          "name": "stdout"
        }
      ]
    },
    {
      "cell_type": "code",
      "metadata": {
        "colab": {
          "base_uri": "https://localhost:8080/"
        },
        "id": "YwBudj2hYoMR",
        "outputId": "167f6cb5-41b8-48e8-902a-86b33efe6cc5"
      },
      "source": [
        "#Cambio de monedas - Técnica voraz\n",
        "################################################################################\n",
        "\n",
        "################################################################\n",
        "def cambio_monedas(CANTIDAD,SISTEMA):\n",
        "  valor_acumulado=0\n",
        "  solucion=[0 for i in range(len(SISTEMA))]\n",
        "  for i,sis in enumerate(SISTEMA):\n",
        "    monedas=(CANTIDAD-valor_acumulado)//sis\n",
        "    solucion[i]=monedas\n",
        "    valor_acumulado+=sis*monedas\n",
        "    if valor_acumulado==CANTIDAD:\n",
        "      return solucion\n",
        "SISTEMA = [25,10,5,1]\n",
        "cambio_monedas(106,SISTEMA)\n",
        "################################################################"
      ],
      "execution_count": 2,
      "outputs": [
        {
          "output_type": "execute_result",
          "data": {
            "text/plain": [
              "[4, 0, 1, 1]"
            ]
          },
          "metadata": {
            "tags": []
          },
          "execution_count": 2
        }
      ]
    },
    {
      "cell_type": "code",
      "metadata": {
        "id": "9toJ4WjhQUNj"
      },
      "source": [
        ""
      ],
      "execution_count": null,
      "outputs": []
    },
    {
      "cell_type": "code",
      "metadata": {
        "id": "H4Iwt2XRZTFr"
      },
      "source": [
        "#N Reinas - Vuelta Atrás()\n",
        "################################################################################\n",
        "\n",
        "#Verifica que en la solución parcial no hay amenzas entre reinas\n",
        "################################################################\n",
        "def es_prometedora(SOLUCION,etapa):\n",
        "################################################################\n",
        "  #print(SOLUCION)\n",
        "  #Si la solución tiene dos valores iguales no es valida => Dos reinas en la misma fila\n",
        "  for i in range(etapa+1):\n",
        "    #print(\"El valor \" + str(SOLUCION[i]) + \" está \" +  str(SOLUCION.count(SOLUCION[i])) + \" veces\")\n",
        "    if SOLUCION.count(SOLUCION[i]) > 1:       \n",
        "      return False\n",
        "  \n",
        "    #Verifica las diagonales\n",
        "    for j in range(i+1, etapa +1 ):\n",
        "     \n",
        "      if abs(i-j) == abs(SOLUCION[i]-SOLUCION[j]) : \n",
        "        return False\n",
        "  return True\n",
        "\n",
        "#Traduce la solución al tablero\n",
        "################################################################\n",
        "def escribe_solucion(S):\n",
        "################################################################\n",
        "  n = len(S)\n",
        "  for x in range(n):\n",
        "    print(\"\")\n",
        "    for i in range(n):\n",
        "      if S[i] == x+1:\n",
        "        print(\" X \" , end=\"\")\n",
        "      else:\n",
        "        print(\" - \", end=\"\")\n",
        "\n",
        "\n",
        "\n",
        "#Proceso principal de N-Reinas\n",
        "################################################################\n",
        "def reinas(N,solucion=[],etapa=0): \n",
        "  if not solucion:\n",
        "    solucion =[0 for i in range(N)]\n",
        "  \n",
        "  for i in range(1,N+1):\n",
        "    solucion[etapa]=i\n",
        "    if es_prometedora(solucion,etapa):\n",
        "      if etapa == N-1:\n",
        "          print(\"La solucion es\", solucion)\n",
        "          escribe_solucion(solucion)\n",
        "          print('\\n')\n",
        "      else:\n",
        "        reinas(N,solucion,etapa+1)\n",
        "################################################################\n",
        "### ...."
      ],
      "execution_count": 3,
      "outputs": []
    },
    {
      "cell_type": "code",
      "metadata": {
        "colab": {
          "base_uri": "https://localhost:8080/"
        },
        "id": "2GSgPfFlRk0w",
        "outputId": "4340ce73-baaa-4c3a-902b-a8f79730efb6"
      },
      "source": [
        "n=32\n",
        "a=list(zip(*[(i,i+1) for i in range(1,n,2)]))\n",
        "\n",
        "b=list(a[0])+list(a[1])\n",
        "\n",
        "if es_prometedora(b,n-1):\n",
        "  escribe_solucion(b)\n",
        "else:\n",
        "  b=list(a[1])+list(a[0])\n",
        "  if es_prometedora(b,n-1):\n",
        "    escribe_solucion(b)\n",
        "  else:\n",
        "    #print(\"No hay solucion\")\n",
        "    b=casos_raros(n)\n",
        "    #escribe_solucion(b)\n",
        "    print(es_prometedora(b,n-1))"
      ],
      "execution_count": null,
      "outputs": [
        {
          "output_type": "stream",
          "text": [
            "1 32\n",
            "12 1\n",
            "False\n"
          ],
          "name": "stdout"
        }
      ]
    },
    {
      "cell_type": "code",
      "metadata": {
        "id": "r1j73oTsssN4"
      },
      "source": [
        "def casos_raros(n):\n",
        "  c=1\n",
        "  d=0\n",
        "  lista=[]\n",
        "  tam=n//4\n",
        "  for i in range(1,n+1):\n",
        "    if i==(n//2)+1:\n",
        "      lista.append(n)\n",
        "    elif i<(n//2)+3:\n",
        "      if i%2==1:\n",
        "        lista.append(n-(i//2)-tam)\n",
        "      else :\n",
        "        lista.append((n//2)-tam-(i//2)+2)\n",
        "    else:\n",
        "      if i%2==1:\n",
        "        lista.append(n-c)\n",
        "        c+=1\n",
        "      else :\n",
        "        lista.append(n//2-d)\n",
        "        d+=1\n",
        "  return lista"
      ],
      "execution_count": null,
      "outputs": []
    },
    {
      "cell_type": "code",
      "metadata": {
        "colab": {
          "base_uri": "https://localhost:8080/"
        },
        "id": "Q55EvDsga9JJ",
        "outputId": "a0a2216b-baa5-40c1-972c-a8def6c0c320"
      },
      "source": [
        "n=1004\n",
        "a=casos_raros(n)\n",
        "p=a.pop(0)\n",
        "a=a+[p]\n",
        "es_prometedora(a,n-1)"
      ],
      "execution_count": null,
      "outputs": [
        {
          "output_type": "execute_result",
          "data": {
            "text/plain": [
              "True"
            ]
          },
          "metadata": {
            "tags": []
          },
          "execution_count": 245
        }
      ]
    },
    {
      "cell_type": "code",
      "metadata": {
        "colab": {
          "base_uri": "https://localhost:8080/"
        },
        "id": "CDge_2re8rgm",
        "outputId": "2eaec5e0-e5a1-4e41-d698-635bc4072967"
      },
      "source": [
        "reinas(8)"
      ],
      "execution_count": null,
      "outputs": [
        {
          "output_type": "stream",
          "text": [
            "La solucion es [4, 7, 5, 2, 6, 1, 3, 8]\n",
            "\n",
            " -  -  -  -  -  X  -  - \n",
            " -  -  -  X  -  -  -  - \n",
            " -  -  -  -  -  -  X  - \n",
            " X  -  -  -  -  -  -  - \n",
            " -  -  X  -  -  -  -  - \n",
            " -  -  -  -  X  -  -  - \n",
            " -  X  -  -  -  -  -  - \n",
            " -  -  -  -  -  -  -  X \n",
            "\n",
            "La solucion es [5, 7, 2, 6, 3, 1, 4, 8]\n",
            "\n",
            " -  -  -  -  -  X  -  - \n",
            " -  -  X  -  -  -  -  - \n",
            " -  -  -  -  X  -  -  - \n",
            " -  -  -  -  -  -  X  - \n",
            " X  -  -  -  -  -  -  - \n",
            " -  -  -  X  -  -  -  - \n",
            " -  X  -  -  -  -  -  - \n",
            " -  -  -  -  -  -  -  X \n",
            "\n",
            "La solucion es [6, 3, 5, 7, 1, 4, 2, 8]\n",
            "\n",
            " -  -  -  -  X  -  -  - \n",
            " -  -  -  -  -  -  X  - \n",
            " -  X  -  -  -  -  -  - \n",
            " -  -  -  -  -  X  -  - \n",
            " -  -  X  -  -  -  -  - \n",
            " X  -  -  -  -  -  -  - \n",
            " -  -  -  X  -  -  -  - \n",
            " -  -  -  -  -  -  -  X \n",
            "\n",
            "La solucion es [6, 4, 7, 1, 3, 5, 2, 8]\n",
            "\n",
            " -  -  -  X  -  -  -  - \n",
            " -  -  -  -  -  -  X  - \n",
            " -  -  -  -  X  -  -  - \n",
            " -  X  -  -  -  -  -  - \n",
            " -  -  -  -  -  X  -  - \n",
            " X  -  -  -  -  -  -  - \n",
            " -  -  X  -  -  -  -  - \n",
            " -  -  -  -  -  -  -  X \n",
            "\n"
          ],
          "name": "stdout"
        }
      ]
    },
    {
      "cell_type": "code",
      "metadata": {
        "id": "jzJaTq02PmHx"
      },
      "source": [
        ""
      ],
      "execution_count": null,
      "outputs": []
    },
    {
      "cell_type": "markdown",
      "metadata": {
        "id": "t1e9T3DtOKB2"
      },
      "source": [
        "Menor distancia por fuerza bruta \n",
        "$O(n^2)$\n"
      ]
    },
    {
      "cell_type": "markdown",
      "metadata": {
        "id": "E53DSu_4M0a-"
      },
      "source": [
        "#Problema: Encontrar los dos puntos más cercanos "
      ]
    },
    {
      "cell_type": "code",
      "metadata": {
        "id": "eCTWnHm6OhNS"
      },
      "source": [
        "\n",
        "a=[3123,234,23,534,65,457,568,67,46,435,9,4,235,34,7642,43,52,6742]"
      ],
      "execution_count": 10,
      "outputs": []
    },
    {
      "cell_type": "code",
      "metadata": {
        "id": "xSlvUT4NOr5R",
        "colab": {
          "base_uri": "https://localhost:8080/"
        },
        "outputId": "61500178-5b52-4bf6-f1f6-1661fffa3b47"
      },
      "source": [
        "smallest=10000000000\n",
        "par=(0,0)\n",
        "for i in range(0,len(a)-1):\n",
        "  for j in range(i+1,len(a)):\n",
        "    resta=abs(a[i]-a[j])\n",
        "    if (smallest>resta):\n",
        "      smallest=resta\n",
        "      par=(a[i],a[j])\n",
        "\n",
        "print(f\"El par con la resta minima es {par}\")"
      ],
      "execution_count": 11,
      "outputs": [
        {
          "output_type": "stream",
          "text": [
            "El par con la resta minima es (234, 235)\n"
          ],
          "name": "stdout"
        }
      ]
    },
    {
      "cell_type": "markdown",
      "metadata": {
        "id": "Sl1yt1h0VD7b"
      },
      "source": [
        "Ordenar el array y obtener la menor diferencia\n",
        "O(nlog(n))"
      ]
    },
    {
      "cell_type": "code",
      "metadata": {
        "id": "9nfpE3LqU9wE",
        "colab": {
          "base_uri": "https://localhost:8080/"
        },
        "outputId": "047dd149-d3be-4b0f-8a53-6fde5166cc62"
      },
      "source": [
        "import operator\n",
        "\n",
        "def smallest_difference(points):\n",
        "    sorted_points = sorted(points)\n",
        "    return min(zip(sorted_points, sorted_points[1:]), key=lambda x: abs(x[1] - x[0]))\n",
        "smallest_difference(a)"
      ],
      "execution_count": 12,
      "outputs": [
        {
          "output_type": "execute_result",
          "data": {
            "text/plain": [
              "(234, 235)"
            ]
          },
          "metadata": {
            "tags": []
          },
          "execution_count": 12
        }
      ]
    },
    {
      "cell_type": "markdown",
      "metadata": {
        "id": "DTc6GHrPVfZV"
      },
      "source": [
        "Para n dimensiones, hallar el minimo"
      ]
    },
    {
      "cell_type": "code",
      "metadata": {
        "id": "_ozgHUxnOJPJ"
      },
      "source": [
        "import numpy as np\n",
        "def smallest_difference(points):\n",
        "    sorted_points = sorted(points)\n",
        "    sorted_points=[np.array(i) for i in sorted_points]\n",
        "    return min([ np.linalg.norm(x[1]-x[0]) for x in zip(sorted_points, sorted_points[1:])])\n",
        "        "
      ],
      "execution_count": 13,
      "outputs": []
    },
    {
      "cell_type": "code",
      "metadata": {
        "id": "eTZclKH9QV0R",
        "colab": {
          "base_uri": "https://localhost:8080/"
        },
        "outputId": "27497546-ce6a-490e-f3e5-31d6aac085f4"
      },
      "source": [
        "  points=[(1,2,3),(4,6,5),(4,8,9)]\n",
        "  sorted_points=smallest_difference(points)\n",
        "  sorted_points\n"
      ],
      "execution_count": 16,
      "outputs": [
        {
          "output_type": "execute_result",
          "data": {
            "text/plain": [
              "4.47213595499958"
            ]
          },
          "metadata": {
            "tags": []
          },
          "execution_count": 16
        }
      ]
    }
  ]
}